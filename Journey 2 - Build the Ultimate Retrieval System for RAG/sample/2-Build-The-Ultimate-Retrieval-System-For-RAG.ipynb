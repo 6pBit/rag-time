{
 "cells": [
  {
   "cell_type": "markdown",
   "metadata": {},
   "source": [
    "# Advanced Search Techniques with Azure AI Search: Keyword, Vector, and Hybrid Methods\n",
    "\n",
    "This notebook demonstrates how to perform different types of searches using Azure AI Search, including keyword search, vector search, hybrid search, semantic ranking, and query rewriting.\n",
    "\n",
    "## Prerequisites\n",
    "\n",
    "Before running the notebook, ensure you have the following: \n",
    "\n",
    "- [Clone](https://github.com/abbhakan/rag-time) the repository to your local machine by following the script below:\n",
    "\n",
    "    ```bash\n",
    "    git clone git@github.com:abbhakan/rag-time.git\n",
    "    cd rag-time\n",
    "    ```\n",
    "\n",
    "- Journey 2!!\n",
    "- Endre .env.sample til -> .env og plugg inn admin_key fra teams\n",
    "- Install Python 3.8 or later from [python.org](https://python.org).\n",
    "\n",
    "## Steps to Use the Notebook\n",
    "\n",
    "### 1. Install Required Libraries\n",
    "\n",
    "Run the first code cell to install the required Python libraries:"
   ]
  },
  {
   "cell_type": "code",
   "execution_count": null,
   "metadata": {},
   "outputs": [],
   "source": [
    "#windows\n",
    "%pip install azure-search-documents==11.6.0b9 azure-identity python-dotenv pandas jinja2 --quiet"
   ]
  },
  {
   "cell_type": "code",
   "execution_count": null,
   "metadata": {},
   "outputs": [],
   "source": [
    "#mac\n",
    "!python3 -m pip install azure-search-documents==11.6.0b9 azure-identity python-dotenv pandas jinja2 --quiet"
   ]
  },
  {
   "cell_type": "markdown",
   "metadata": {},
   "source": [
    "### 2. Set Up Environment Variables\n",
    "\n",
    "To store credentials securely, rename `.env.sample` file to `.env` in the same directory as the notebook and update the following variables:"
   ]
  },
  {
   "cell_type": "code",
   "execution_count": null,
   "metadata": {},
   "outputs": [],
   "source": [
    "AZURE_SEARCH_SERVICE_ENDPOINT=\"https://aisearch-fastai-rag.search.windows.net\"\n",
    "AZURE_SEARCH_INDEX=\"sopravector2\"\n",
    "AZURE_SEARCH_ADMIN_KEY=\"\""
   ]
  },
  {
   "cell_type": "markdown",
   "metadata": {},
   "source": [
    "After setting up, the notebook will automatically load these values using dotenv.\n",
    "\n",
    "### 3. Load Environment Variables\n",
    "\n",
    "Run the following command to load environment variables from the .env file:"
   ]
  },
  {
   "cell_type": "code",
   "execution_count": 1,
   "metadata": {},
   "outputs": [],
   "source": [
    "import os\n",
    "from azure.core.credentials import AzureKeyCredential\n",
    "from azure.identity import DefaultAzureCredential\n",
    "from dotenv import load_dotenv\n",
    "\n",
    "load_dotenv(override=True) # take environment variables from .env.\n",
    "\n",
    "endpoint = os.environ[\"AZURE_SEARCH_SERVICE_ENDPOINT\"]\n",
    "index_name = os.environ[\"AZURE_SEARCH_INDEX\"]\n",
    "credential = AzureKeyCredential(os.getenv(\"AZURE_SEARCH_ADMIN_KEY\"))"
   ]
  },
  {
   "cell_type": "markdown",
   "metadata": {},
   "source": [
    "This will ensure all necessary credentials are available before setting up the API client."
   ]
  },
  {
   "cell_type": "markdown",
   "metadata": {},
   "source": [
    "### 4. Set Up API Client and Define the Display Function\n",
    "\n",
    "Initialize the Azure AI Search Client for interacting with the Azure Search service and make the search results easier to read by defining a function that formats and displays results:"
   ]
  },
  {
   "cell_type": "code",
   "execution_count": 2,
   "metadata": {},
   "outputs": [
    {
     "name": "stderr",
     "output_type": "stream",
     "text": [
      "/Users/johan/Library/Python/3.9/lib/python/site-packages/urllib3/__init__.py:35: NotOpenSSLWarning: urllib3 v2 only supports OpenSSL 1.1.1+, currently the 'ssl' module is compiled with 'LibreSSL 2.8.3'. See: https://github.com/urllib3/urllib3/issues/3020\n",
      "  warnings.warn(\n"
     ]
    }
   ],
   "source": [
    "from azure.search.documents import SearchClient\n",
    "import pandas as pd\n",
    "\n",
    "search_client = SearchClient(endpoint, index_name, credential)\n",
    "\n",
    "def display_results(results):\n",
    "    df = pd.json_normalize(list(results)).dropna(axis=1, how='all')\n",
    "    df[\"chunk\"] = df[\"chunk\"].apply(lambda c: c[:300] + '...' if len(c) > 300 else c)\n",
    "    first_cols = ['title', 'chunk', '@search.score']\n",
    "    df = df[first_cols + [col for col in df.columns if col not in first_cols]]\n",
    "\n",
    "    df = df.style.set_properties(**{\n",
    "        'max-width': '500px',\n",
    "        'text-align': 'left',\n",
    "        'white-space': 'normal',\n",
    "        'word-wrap': 'break-word'\n",
    "    }).hide(axis=\"index\")\n",
    "\n",
    "\n",
    "    return df\n",
    "\n",
    "##### Søke-felt #####\n",
    "searchText = \"Pappapermisjon i sopra steria\"\n",
    "#####################"
   ]
  },
  {
   "cell_type": "markdown",
   "metadata": {},
   "source": [
    "### 5. Perform Different Search Methods\n",
    "\n",
    "#### Keyword Search\n",
    "\n",
    "Execute a traditional keyword-based search:"
   ]
  },
  {
   "cell_type": "code",
   "execution_count": 3,
   "metadata": {},
   "outputs": [
    {
     "data": {
      "text/html": [
       "<style type=\"text/css\">\n",
       "#T_4d0f2_row0_col0, #T_4d0f2_row0_col1, #T_4d0f2_row0_col2, #T_4d0f2_row1_col0, #T_4d0f2_row1_col1, #T_4d0f2_row1_col2, #T_4d0f2_row2_col0, #T_4d0f2_row2_col1, #T_4d0f2_row2_col2, #T_4d0f2_row3_col0, #T_4d0f2_row3_col1, #T_4d0f2_row3_col2, #T_4d0f2_row4_col0, #T_4d0f2_row4_col1, #T_4d0f2_row4_col2 {\n",
       "  max-width: 500px;\n",
       "  text-align: left;\n",
       "  white-space: normal;\n",
       "  word-wrap: break-word;\n",
       "}\n",
       "</style>\n",
       "<table id=\"T_4d0f2\">\n",
       "  <thead>\n",
       "    <tr>\n",
       "      <th id=\"T_4d0f2_level0_col0\" class=\"col_heading level0 col0\" >title</th>\n",
       "      <th id=\"T_4d0f2_level0_col1\" class=\"col_heading level0 col1\" >chunk</th>\n",
       "      <th id=\"T_4d0f2_level0_col2\" class=\"col_heading level0 col2\" >@search.score</th>\n",
       "    </tr>\n",
       "  </thead>\n",
       "  <tbody>\n",
       "    <tr>\n",
       "      <td id=\"T_4d0f2_row0_col0\" class=\"data row0 col0\" >1. Hvilke retningslinjer gjelder hos oss_.pdf</td>\n",
       "      <td id=\"T_4d0f2_row0_col1\" class=\"data row0 col1\" >underlagt et\n",
       "familiemedlem.\n",
       "\n",
       "Tidligere ansatte\n",
       "\n",
       "Sopra Steria har som policy å unngå at tidligere ansatte, som etter avsluttet ansettelse i Sopra Steria har startet sin egen\n",
       "\n",
       "4/23/25, 9:09 AM 1. Hvilke retningslinjer gjelder hos oss?\n",
       "\n",
       "https://steria.sharepoint.com/sites/Personalhndbok/SitePages/1. Hv...</td>\n",
       "      <td id=\"T_4d0f2_row0_col2\" class=\"data row0 col2\" >3.698846</td>\n",
       "    </tr>\n",
       "    <tr>\n",
       "      <td id=\"T_4d0f2_row1_col0\" class=\"data row1 col0\" >20. Hva skjer når jeg skal slutte_.pdf</td>\n",
       "      <td id=\"T_4d0f2_row1_col1\" class=\"data row1 col1\" >å fysisk møte opp på Sopra Steria sin lokasjon for å levere inn alle utleverte effekter, dokumenter\n",
       "etc. som tilhører Sopra Steria.\n",
       "Du plikter også å gjøre opp eventuelle tilgodehavender som Sopra Steria måtte ha.\n",
       "\n",
       "Det er vanlig at en representant for HR gjennomfører en sluttsamtale.\n",
       "\n",
       "Hva skjer når ...</td>\n",
       "      <td id=\"T_4d0f2_row1_col2\" class=\"data row1 col2\" >3.489025</td>\n",
       "    </tr>\n",
       "    <tr>\n",
       "      <td id=\"T_4d0f2_row2_col0\" class=\"data row2 col0\" >1. Hvilke retningslinjer gjelder hos oss_.pdf</td>\n",
       "      <td id=\"T_4d0f2_row2_col1\" class=\"data row2 col1\" >som ikke går ut over virksomhetens omdømme. Ansatte er å\n",
       "betrakte som representanter for virksomheten i slike sammenhenger.\n",
       "\n",
       " \n",
       "4. I forbindelse med representasjon følger vi Statens regulativ.\n",
       "\n",
       " \n",
       "5. Alkoholservering i Sopra Steria sine lokaler i arbeidstiden mellom kl. 08-16 er ikke tillatt.\n",
       "\n",
       "4/23/25...</td>\n",
       "      <td id=\"T_4d0f2_row2_col2\" class=\"data row2 col2\" >3.377539</td>\n",
       "    </tr>\n",
       "    <tr>\n",
       "      <td id=\"T_4d0f2_row3_col0\" class=\"data row3 col0\" >18. Helse, miljø og sikkerhet.pdf</td>\n",
       "      <td id=\"T_4d0f2_row3_col1\" class=\"data row3 col1\" >18. Helse, miljø og sikkerhet\n",
       "\n",
       " Arbeidsmiljø  Verneombud  Arbeidsmiljøutvalget\n",
       "\n",
       "Arbeidsmiljø\n",
       "\n",
       "I Sopra Steria søker vi å ha et arbeidsmiljø preget av likeverd, respekt og åpenhet. Vi godtar ikke diskriminering på\n",
       "bakgrunn av kjønn, nasjonalitet, etnisitet, religion, alder, legning, sivil status el...</td>\n",
       "      <td id=\"T_4d0f2_row3_col2\" class=\"data row3 col2\" >3.052828</td>\n",
       "    </tr>\n",
       "    <tr>\n",
       "      <td id=\"T_4d0f2_row4_col0\" class=\"data row4 col0\" >9. Ferie.pdf</td>\n",
       "      <td id=\"T_4d0f2_row4_col1\" class=\"data row4 col1\" >Alle ansatte skal avvikle sin hovedferie, minimum fire uker, i juli og ellers i stille perioder. Dette gjelder også medarbeidere\n",
       "som har opparbeidet feriepenger hos tidligere arbeidsgiver. \n",
       "\n",
       "Ferie utover hovedferien skal legges til jul, påske og ellers stille perioder i prosjektet, eller til periode...</td>\n",
       "      <td id=\"T_4d0f2_row4_col2\" class=\"data row4 col2\" >3.019975</td>\n",
       "    </tr>\n",
       "  </tbody>\n",
       "</table>\n"
      ],
      "text/plain": [
       "<pandas.io.formats.style.Styler at 0x1066355b0>"
      ]
     },
     "execution_count": 3,
     "metadata": {},
     "output_type": "execute_result"
    }
   ],
   "source": [
    "results = search_client.search(search_text=searchText, top=5, select=[\"title\", \"chunk\"])\n",
    "\n",
    "display_results(results)\n"
   ]
  },
  {
   "cell_type": "markdown",
   "metadata": {},
   "source": [
    "#### Vector Search\n",
    "\n",
    "Retrieve documents using vector similarity search:"
   ]
  },
  {
   "cell_type": "code",
   "execution_count": 4,
   "metadata": {},
   "outputs": [
    {
     "data": {
      "text/html": [
       "<style type=\"text/css\">\n",
       "#T_47e78_row0_col0, #T_47e78_row0_col1, #T_47e78_row0_col2, #T_47e78_row1_col0, #T_47e78_row1_col1, #T_47e78_row1_col2, #T_47e78_row2_col0, #T_47e78_row2_col1, #T_47e78_row2_col2, #T_47e78_row3_col0, #T_47e78_row3_col1, #T_47e78_row3_col2, #T_47e78_row4_col0, #T_47e78_row4_col1, #T_47e78_row4_col2 {\n",
       "  max-width: 500px;\n",
       "  text-align: left;\n",
       "  white-space: normal;\n",
       "  word-wrap: break-word;\n",
       "}\n",
       "</style>\n",
       "<table id=\"T_47e78\">\n",
       "  <thead>\n",
       "    <tr>\n",
       "      <th id=\"T_47e78_level0_col0\" class=\"col_heading level0 col0\" >title</th>\n",
       "      <th id=\"T_47e78_level0_col1\" class=\"col_heading level0 col1\" >chunk</th>\n",
       "      <th id=\"T_47e78_level0_col2\" class=\"col_heading level0 col2\" >@search.score</th>\n",
       "    </tr>\n",
       "  </thead>\n",
       "  <tbody>\n",
       "    <tr>\n",
       "      <td id=\"T_47e78_row0_col0\" class=\"data row0 col0\" >14. Foreldrepermisjon.pdf</td>\n",
       "      <td id=\"T_47e78_row0_col1\" class=\"data row0 col1\" >i permisjon.\n",
       "\n",
       "Goder under foreldrepermisjon\n",
       "\n",
       "Du beholder dine goder som forsikringer, mobilabonnement og pensjon som vanlig mens du er i foreldrepermisjon.\n",
       "\n",
       "Sopra Steria dager tjenes ikke opp mens du er i permisjon.\n",
       "\n",
       "4/23/25, 9:11 AM 14. Foreldrepermisjon\n",
       "\n",
       "https://steria.sharepoint.com/sites/Persona...</td>\n",
       "      <td id=\"T_47e78_row0_col2\" class=\"data row0 col2\" >0.722310</td>\n",
       "    </tr>\n",
       "    <tr>\n",
       "      <td id=\"T_47e78_row1_col0\" class=\"data row1 col0\" >15. Andre permisjoner.pdf</td>\n",
       "      <td id=\"T_47e78_row1_col1\" class=\"data row1 col1\" >inn i Workday og sendes til godkjenning hos leder. Nærmeste leder kan etter\n",
       "søknad innvilge inntil tre dager permisjon uten lønn. \n",
       "\n",
       "Ved godkjenning sendes forespørselen til Worktime og genererer din timeføring. Timene går til trekk i lønn inneværende\n",
       "eller påfølgende måned. \n",
       "\n",
       "Lengre permisjoner uten...</td>\n",
       "      <td id=\"T_47e78_row1_col2\" class=\"data row1 col2\" >0.708640</td>\n",
       "    </tr>\n",
       "    <tr>\n",
       "      <td id=\"T_47e78_row2_col0\" class=\"data row2 col0\" >14. Foreldrepermisjon.pdf</td>\n",
       "      <td id=\"T_47e78_row2_col1\" class=\"data row2 col1\" >Velferdspermisjon i forbindelse med fødsel\n",
       "\n",
       "Far eller medmor får to uker permisjon med lønn i forbindelse med fødsel. Du informerer din leder, og registrerer dette på 2\n",
       "weeks in relation to child birth i Workday. Du trenger ikke informere HR om disse to ukene. Merk at permisjonen er to\n",
       "kalenderuker,...</td>\n",
       "      <td id=\"T_47e78_row2_col2\" class=\"data row2 col2\" >0.700860</td>\n",
       "    </tr>\n",
       "    <tr>\n",
       "      <td id=\"T_47e78_row3_col0\" class=\"data row3 col0\" >14. Foreldrepermisjon.pdf</td>\n",
       "      <td id=\"T_47e78_row3_col1\" class=\"data row3 col1\" >14. Foreldrepermisjon\n",
       "\n",
       " Hva må du gjøre når du skal ut i…  Endring i foreldrepermisjon  Arbeid i foreldrepermisjon\n",
       "\n",
       " Syk i foreldrepermisjon  Velferdpermisjon fødsel  Adopsjon\n",
       "\n",
       " Hva gjelder i permisjonstiden?  Ferie i permisjonstiden\n",
       "\n",
       " Fri ved amming\n",
       "\n",
       "Hva må du gjøre når du skal ut i foreld...</td>\n",
       "      <td id=\"T_47e78_row3_col2\" class=\"data row3 col2\" >0.688183</td>\n",
       "    </tr>\n",
       "    <tr>\n",
       "      <td id=\"T_47e78_row4_col0\" class=\"data row4 col0\" >15. Andre permisjoner.pdf</td>\n",
       "      <td id=\"T_47e78_row4_col1\" class=\"data row4 col1\" >For vernepliktige og utskrevet befal skal det, når tjenesten varer mer enn 1 uke (7 dager), foretas et lønnstrekk som svarer til\n",
       "den militære grad/stillings hovedregulativlønn. Lønnstrekket kan ikke overstige vanlig lønn for perioden. Kopi av lønnsslipp\n",
       "sendes til payroll. Du vil få informasjon i bj...</td>\n",
       "      <td id=\"T_47e78_row4_col2\" class=\"data row4 col2\" >0.683208</td>\n",
       "    </tr>\n",
       "  </tbody>\n",
       "</table>\n"
      ],
      "text/plain": [
       "<pandas.io.formats.style.Styler at 0x106632940>"
      ]
     },
     "execution_count": 4,
     "metadata": {},
     "output_type": "execute_result"
    }
   ],
   "source": [
    "from azure.search.documents.models import VectorizableTextQuery\n",
    "\n",
    "results = search_client.search(\n",
    "    None,\n",
    "    top=5,\n",
    "    vector_queries=[VectorizableTextQuery(text=searchText, k_nearest_neighbors=50, fields=\"text_vector\")],\n",
    "    select=[\"title\", \"chunk\"]\n",
    ")\n",
    "\n",
    "display_results(results)"
   ]
  },
  {
   "cell_type": "markdown",
   "metadata": {},
   "source": [
    "#### Hybrid Search (Keyword + Vector Search)\n",
    "\n",
    "Combine keyword and vector searches for better accuracy:"
   ]
  },
  {
   "cell_type": "code",
   "execution_count": 5,
   "metadata": {},
   "outputs": [
    {
     "data": {
      "text/html": [
       "<style type=\"text/css\">\n",
       "#T_0a6c3_row0_col0, #T_0a6c3_row0_col1, #T_0a6c3_row0_col2, #T_0a6c3_row1_col0, #T_0a6c3_row1_col1, #T_0a6c3_row1_col2, #T_0a6c3_row2_col0, #T_0a6c3_row2_col1, #T_0a6c3_row2_col2, #T_0a6c3_row3_col0, #T_0a6c3_row3_col1, #T_0a6c3_row3_col2, #T_0a6c3_row4_col0, #T_0a6c3_row4_col1, #T_0a6c3_row4_col2 {\n",
       "  max-width: 500px;\n",
       "  text-align: left;\n",
       "  white-space: normal;\n",
       "  word-wrap: break-word;\n",
       "}\n",
       "</style>\n",
       "<table id=\"T_0a6c3\">\n",
       "  <thead>\n",
       "    <tr>\n",
       "      <th id=\"T_0a6c3_level0_col0\" class=\"col_heading level0 col0\" >title</th>\n",
       "      <th id=\"T_0a6c3_level0_col1\" class=\"col_heading level0 col1\" >chunk</th>\n",
       "      <th id=\"T_0a6c3_level0_col2\" class=\"col_heading level0 col2\" >@search.score</th>\n",
       "    </tr>\n",
       "  </thead>\n",
       "  <tbody>\n",
       "    <tr>\n",
       "      <td id=\"T_0a6c3_row0_col0\" class=\"data row0 col0\" >20. Hva skjer når jeg skal slutte_.pdf</td>\n",
       "      <td id=\"T_0a6c3_row0_col1\" class=\"data row0 col1\" >å fysisk møte opp på Sopra Steria sin lokasjon for å levere inn alle utleverte effekter, dokumenter\n",
       "etc. som tilhører Sopra Steria.\n",
       "Du plikter også å gjøre opp eventuelle tilgodehavender som Sopra Steria måtte ha.\n",
       "\n",
       "Det er vanlig at en representant for HR gjennomfører en sluttsamtale.\n",
       "\n",
       "Hva skjer når ...</td>\n",
       "      <td id=\"T_0a6c3_row0_col2\" class=\"data row0 col2\" >0.031545</td>\n",
       "    </tr>\n",
       "    <tr>\n",
       "      <td id=\"T_0a6c3_row1_col0\" class=\"data row1 col0\" >15. Andre permisjoner.pdf</td>\n",
       "      <td id=\"T_0a6c3_row1_col1\" class=\"data row1 col1\" >inn i Workday og sendes til godkjenning hos leder. Nærmeste leder kan etter\n",
       "søknad innvilge inntil tre dager permisjon uten lønn. \n",
       "\n",
       "Ved godkjenning sendes forespørselen til Worktime og genererer din timeføring. Timene går til trekk i lønn inneværende\n",
       "eller påfølgende måned. \n",
       "\n",
       "Lengre permisjoner uten...</td>\n",
       "      <td id=\"T_0a6c3_row1_col2\" class=\"data row1 col2\" >0.031319</td>\n",
       "    </tr>\n",
       "    <tr>\n",
       "      <td id=\"T_0a6c3_row2_col0\" class=\"data row2 col0\" >14. Foreldrepermisjon.pdf</td>\n",
       "      <td id=\"T_0a6c3_row2_col1\" class=\"data row2 col1\" >Velferdspermisjon i forbindelse med fødsel\n",
       "\n",
       "Far eller medmor får to uker permisjon med lønn i forbindelse med fødsel. Du informerer din leder, og registrerer dette på 2\n",
       "weeks in relation to child birth i Workday. Du trenger ikke informere HR om disse to ukene. Merk at permisjonen er to\n",
       "kalenderuker,...</td>\n",
       "      <td id=\"T_0a6c3_row2_col2\" class=\"data row2 col2\" >0.030018</td>\n",
       "    </tr>\n",
       "    <tr>\n",
       "      <td id=\"T_0a6c3_row3_col0\" class=\"data row3 col0\" >1. Hvilke retningslinjer gjelder hos oss_.pdf</td>\n",
       "      <td id=\"T_0a6c3_row3_col1\" class=\"data row3 col1\" >underlagt et\n",
       "familiemedlem.\n",
       "\n",
       "Tidligere ansatte\n",
       "\n",
       "Sopra Steria har som policy å unngå at tidligere ansatte, som etter avsluttet ansettelse i Sopra Steria har startet sin egen\n",
       "\n",
       "4/23/25, 9:09 AM 1. Hvilke retningslinjer gjelder hos oss?\n",
       "\n",
       "https://steria.sharepoint.com/sites/Personalhndbok/SitePages/1. Hv...</td>\n",
       "      <td id=\"T_0a6c3_row3_col2\" class=\"data row3 col2\" >0.030000</td>\n",
       "    </tr>\n",
       "    <tr>\n",
       "      <td id=\"T_0a6c3_row4_col0\" class=\"data row4 col0\" >9. Ferie.pdf</td>\n",
       "      <td id=\"T_0a6c3_row4_col1\" class=\"data row4 col1\" >Alle ansatte skal avvikle sin hovedferie, minimum fire uker, i juli og ellers i stille perioder. Dette gjelder også medarbeidere\n",
       "som har opparbeidet feriepenger hos tidligere arbeidsgiver. \n",
       "\n",
       "Ferie utover hovedferien skal legges til jul, påske og ellers stille perioder i prosjektet, eller til periode...</td>\n",
       "      <td id=\"T_0a6c3_row4_col2\" class=\"data row4 col2\" >0.029710</td>\n",
       "    </tr>\n",
       "  </tbody>\n",
       "</table>\n"
      ],
      "text/plain": [
       "<pandas.io.formats.style.Styler at 0x10622fe50>"
      ]
     },
     "execution_count": 5,
     "metadata": {},
     "output_type": "execute_result"
    }
   ],
   "source": [
    "results = search_client.search(\n",
    "    search_text=searchText,\n",
    "    vector_queries=[VectorizableTextQuery(text=searchText, k_nearest_neighbors=50, fields=\"text_vector\")],\n",
    "    top=5,\n",
    "    select=[\"title\", \"chunk\"]\n",
    ")\n",
    "\n",
    "display_results(results)"
   ]
  },
  {
   "cell_type": "markdown",
   "metadata": {},
   "source": [
    "#### Hybrid Search + Semantic Ranker\n",
    "\n",
    "Enhance search results using a semantic ranker:"
   ]
  },
  {
   "cell_type": "code",
   "execution_count": 6,
   "metadata": {},
   "outputs": [
    {
     "data": {
      "text/html": [
       "<style type=\"text/css\">\n",
       "#T_a3948_row0_col0, #T_a3948_row0_col1, #T_a3948_row0_col2, #T_a3948_row0_col3, #T_a3948_row1_col0, #T_a3948_row1_col1, #T_a3948_row1_col2, #T_a3948_row1_col3, #T_a3948_row2_col0, #T_a3948_row2_col1, #T_a3948_row2_col2, #T_a3948_row2_col3, #T_a3948_row3_col0, #T_a3948_row3_col1, #T_a3948_row3_col2, #T_a3948_row3_col3, #T_a3948_row4_col0, #T_a3948_row4_col1, #T_a3948_row4_col2, #T_a3948_row4_col3 {\n",
       "  max-width: 500px;\n",
       "  text-align: left;\n",
       "  white-space: normal;\n",
       "  word-wrap: break-word;\n",
       "}\n",
       "</style>\n",
       "<table id=\"T_a3948\">\n",
       "  <thead>\n",
       "    <tr>\n",
       "      <th id=\"T_a3948_level0_col0\" class=\"col_heading level0 col0\" >title</th>\n",
       "      <th id=\"T_a3948_level0_col1\" class=\"col_heading level0 col1\" >chunk</th>\n",
       "      <th id=\"T_a3948_level0_col2\" class=\"col_heading level0 col2\" >@search.score</th>\n",
       "      <th id=\"T_a3948_level0_col3\" class=\"col_heading level0 col3\" >@search.reranker_score</th>\n",
       "    </tr>\n",
       "  </thead>\n",
       "  <tbody>\n",
       "    <tr>\n",
       "      <td id=\"T_a3948_row0_col0\" class=\"data row0 col0\" >14. Foreldrepermisjon.pdf</td>\n",
       "      <td id=\"T_a3948_row0_col1\" class=\"data row0 col1\" >Velferdspermisjon i forbindelse med fødsel\n",
       "\n",
       "Far eller medmor får to uker permisjon med lønn i forbindelse med fødsel. Du informerer din leder, og registrerer dette på 2\n",
       "weeks in relation to child birth i Workday. Du trenger ikke informere HR om disse to ukene. Merk at permisjonen er to\n",
       "kalenderuker,...</td>\n",
       "      <td id=\"T_a3948_row0_col2\" class=\"data row0 col2\" >0.030018</td>\n",
       "      <td id=\"T_a3948_row0_col3\" class=\"data row0 col3\" >2.834420</td>\n",
       "    </tr>\n",
       "    <tr>\n",
       "      <td id=\"T_a3948_row1_col0\" class=\"data row1 col0\" >14. Foreldrepermisjon.pdf</td>\n",
       "      <td id=\"T_a3948_row1_col1\" class=\"data row1 col1\" >i permisjon.\n",
       "\n",
       "Goder under foreldrepermisjon\n",
       "\n",
       "Du beholder dine goder som forsikringer, mobilabonnement og pensjon som vanlig mens du er i foreldrepermisjon.\n",
       "\n",
       "Sopra Steria dager tjenes ikke opp mens du er i permisjon.\n",
       "\n",
       "4/23/25, 9:11 AM 14. Foreldrepermisjon\n",
       "\n",
       "https://steria.sharepoint.com/sites/Persona...</td>\n",
       "      <td id=\"T_a3948_row1_col2\" class=\"data row1 col2\" >0.025439</td>\n",
       "      <td id=\"T_a3948_row1_col3\" class=\"data row1 col3\" >2.811734</td>\n",
       "    </tr>\n",
       "    <tr>\n",
       "      <td id=\"T_a3948_row2_col0\" class=\"data row2 col0\" >14. Foreldrepermisjon.pdf</td>\n",
       "      <td id=\"T_a3948_row2_col1\" class=\"data row2 col1\" >14. Foreldrepermisjon\n",
       "\n",
       " Hva må du gjøre når du skal ut i…  Endring i foreldrepermisjon  Arbeid i foreldrepermisjon\n",
       "\n",
       " Syk i foreldrepermisjon  Velferdpermisjon fødsel  Adopsjon\n",
       "\n",
       " Hva gjelder i permisjonstiden?  Ferie i permisjonstiden\n",
       "\n",
       " Fri ved amming\n",
       "\n",
       "Hva må du gjøre når du skal ut i foreld...</td>\n",
       "      <td id=\"T_a3948_row2_col2\" class=\"data row2 col2\" >0.024494</td>\n",
       "      <td id=\"T_a3948_row2_col3\" class=\"data row2 col3\" >2.703976</td>\n",
       "    </tr>\n",
       "    <tr>\n",
       "      <td id=\"T_a3948_row3_col0\" class=\"data row3 col0\" >14. Foreldrepermisjon.pdf</td>\n",
       "      <td id=\"T_a3948_row3_col1\" class=\"data row3 col1\" >du har sendt\n",
       "informasjon til HR, må du gi beskjed om dette i god tid før endringen inntreffer. Dette gjør du ved å korrigere søknaden du\n",
       "har lagt inn i Workday. Du må også søke NAV om endringene. For mors permisjon må du også informere HR dersom barnet\n",
       "blir født før termin – da blir siste dag med fo...</td>\n",
       "      <td id=\"T_a3948_row3_col2\" class=\"data row3 col2\" >0.022792</td>\n",
       "      <td id=\"T_a3948_row3_col3\" class=\"data row3 col3\" >2.628828</td>\n",
       "    </tr>\n",
       "    <tr>\n",
       "      <td id=\"T_a3948_row4_col0\" class=\"data row4 col0\" >15. Andre permisjoner.pdf</td>\n",
       "      <td id=\"T_a3948_row4_col1\" class=\"data row4 col1\" >inn i Workday og sendes til godkjenning hos leder. Nærmeste leder kan etter\n",
       "søknad innvilge inntil tre dager permisjon uten lønn. \n",
       "\n",
       "Ved godkjenning sendes forespørselen til Worktime og genererer din timeføring. Timene går til trekk i lønn inneværende\n",
       "eller påfølgende måned. \n",
       "\n",
       "Lengre permisjoner uten...</td>\n",
       "      <td id=\"T_a3948_row4_col2\" class=\"data row4 col2\" >0.031319</td>\n",
       "      <td id=\"T_a3948_row4_col3\" class=\"data row4 col3\" >2.537021</td>\n",
       "    </tr>\n",
       "  </tbody>\n",
       "</table>\n"
      ],
      "text/plain": [
       "<pandas.io.formats.style.Styler at 0x122618ca0>"
      ]
     },
     "execution_count": 6,
     "metadata": {},
     "output_type": "execute_result"
    }
   ],
   "source": [
    "results = search_client.search(\n",
    "    search_text=searchText,\n",
    "    vector_queries=[VectorizableTextQuery(text=searchText, k_nearest_neighbors=50, fields=\"text_vector\")],\n",
    "    top=5,\n",
    "    select=[\"title\", \"chunk\"],\n",
    "    query_type=\"semantic\",\n",
    "    semantic_configuration_name=\"sopravector2-semantic-configuration\"\n",
    ")\n",
    "\n",
    "display_results(results)"
   ]
  },
  {
   "cell_type": "markdown",
   "metadata": {},
   "source": [
    "## Troubleshooting\n",
    "\n",
    "- **Environment Variables Not Loaded:** Ensure you have correctly set the .env file or manually export them in your terminal before running the notebook.\n",
    "- **Authentication Issues:** If using Managed Identity, make sure your Azure identity has proper role assignments.\n",
    "- **Search Results Are Empty:** Ensure your Azure AI Search index contains vectorized data.\n",
    "- **Query Rewriting Issues:** Ensure your search service supports semantic configurations and generative query rewrites.\n",
    "\n",
    "## Summary\n",
    "\n",
    "This notebook demonstrates different search techniques using Azure AI Search, including keyword search, vector search, hybrid search, semantic ranking, and query rewriting. The approach enhances search accuracy by leveraging vector embeddings and semantic understanding to retrieve the most relevant documents.\n",
    "\n"
   ]
  }
 ],
 "metadata": {
  "kernelspec": {
   "display_name": "Python 3",
   "language": "python",
   "name": "python3"
  },
  "language_info": {
   "codemirror_mode": {
    "name": "ipython",
    "version": 3
   },
   "file_extension": ".py",
   "mimetype": "text/x-python",
   "name": "python",
   "nbconvert_exporter": "python",
   "pygments_lexer": "ipython3",
   "version": "3.9.6"
  }
 },
 "nbformat": 4,
 "nbformat_minor": 2
}
