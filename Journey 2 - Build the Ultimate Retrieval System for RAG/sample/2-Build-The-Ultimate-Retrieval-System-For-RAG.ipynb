{
 "cells": [
  {
   "cell_type": "markdown",
   "metadata": {},
   "source": [
    "# Advanced Search Techniques with Azure AI Search: Keyword, Vector, and Hybrid Methods\n",
    "\n",
    "This notebook demonstrates how to perform different types of searches using Azure AI Search, including keyword search, vector search, hybrid search, semantic ranking, and query rewriting.\n",
    "\n",
    "## Prerequisites\n",
    "\n",
    "Before running the notebook, ensure you have the following: \n",
    "\n",
    "- [Clone](https://github.com/abbhakan/rag-time) the repository to your local machine by following the script below:\n",
    "\n",
    "    ```bash\n",
    "    git clone git@github.com:abbhakan/rag-time.git\n",
    "    cd rag-time\n",
    "    ```\n",
    "\n",
    "- Journey 2!!\n",
    "- Endre .env.sample til -> .env og plugg inn admin_key fra teams\n",
    "- Install Python 3.8 or later from [python.org](https://python.org).\n",
    "\n",
    "## Steps to Use the Notebook\n",
    "\n",
    "### 1. Install Required Libraries\n",
    "\n",
    "Run the first code cell to install the required Python libraries:"
   ]
  },
  {
   "cell_type": "code",
   "execution_count": null,
   "metadata": {},
   "outputs": [],
   "source": [
    "#windows\n",
    "%pip install azure-search-documents==11.6.0b9 azure-identity python-dotenv pandas jinja2 --quiet"
   ]
  },
  {
   "cell_type": "code",
   "execution_count": 3,
   "metadata": {},
   "outputs": [],
   "source": [
    "#mac\n",
    "!python3 -m pip install azure-search-documents==11.6.0b9 azure-identity python-dotenv pandas jinja2 --quiet"
   ]
  },
  {
   "cell_type": "markdown",
   "metadata": {},
   "source": [
    "### 2. Set Up Environment Variables\n",
    "\n",
    "To store credentials securely, rename `.env.sample` file to `.env` in the same directory as the notebook and update the following variables:"
   ]
  },
  {
   "cell_type": "code",
   "execution_count": null,
   "metadata": {},
   "outputs": [],
   "source": [
    "AZURE_SEARCH_SERVICE_ENDPOINT=\"<your_search_service_endpoint>\"\n",
    "AZURE_SEARCH_INDEX=\"<your_search_index_name>\"\n",
    "AZURE_SEARCH_ADMIN_KEY=\"<your_search_admin_key>\""
   ]
  },
  {
   "cell_type": "markdown",
   "metadata": {},
   "source": [
    "After setting up, the notebook will automatically load these values using dotenv.\n",
    "\n",
    "### 3. Load Environment Variables\n",
    "\n",
    "Run the following command to load environment variables from the .env file:"
   ]
  },
  {
   "cell_type": "code",
   "execution_count": 18,
   "metadata": {},
   "outputs": [],
   "source": [
    "import os\n",
    "from azure.core.credentials import AzureKeyCredential\n",
    "from azure.identity import DefaultAzureCredential\n",
    "from dotenv import load_dotenv\n",
    "\n",
    "load_dotenv(override=True) # take environment variables from .env.\n",
    "\n",
    "endpoint = os.environ[\"AZURE_SEARCH_SERVICE_ENDPOINT\"]\n",
    "index_name = os.environ[\"AZURE_SEARCH_INDEX\"]\n",
    "credential = AzureKeyCredential(os.getenv(\"AZURE_SEARCH_ADMIN_KEY\"))"
   ]
  },
  {
   "cell_type": "markdown",
   "metadata": {},
   "source": [
    "This will ensure all necessary credentials are available before setting up the API client."
   ]
  },
  {
   "cell_type": "markdown",
   "metadata": {},
   "source": [
    "### 4. Set Up API Client and Define the Display Function\n",
    "\n",
    "Initialize the Azure AI Search Client for interacting with the Azure Search service and make the search results easier to read by defining a function that formats and displays results:"
   ]
  },
  {
   "cell_type": "code",
   "execution_count": 19,
   "metadata": {},
   "outputs": [],
   "source": [
    "from azure.search.documents import SearchClient\n",
    "import pandas as pd\n",
    "\n",
    "search_client = SearchClient(endpoint, index_name, credential)\n",
    "\n",
    "def display_results(results):\n",
    "    df = pd.json_normalize(list(results)).dropna(axis=1, how='all')\n",
    "    df[\"chunk\"] = df[\"chunk\"].apply(lambda c: c[:300] + '...' if len(c) > 300 else c)\n",
    "    first_cols = ['title', 'chunk', '@search.score']\n",
    "    df = df[first_cols + [col for col in df.columns if col not in first_cols]]\n",
    "\n",
    "    df = df.style.set_properties(**{\n",
    "        'max-width': '500px',\n",
    "        'text-align': 'left',\n",
    "        'white-space': 'normal',\n",
    "        'word-wrap': 'break-word'\n",
    "    }).hide(axis=\"index\")\n",
    "\n",
    "\n",
    "    return df\n"
   ]
  },
  {
   "cell_type": "markdown",
   "metadata": {},
   "source": [
    "### 5. Perform Different Search Methods\n",
    "\n",
    "#### Keyword Search\n",
    "\n",
    "Execute a traditional keyword-based search:"
   ]
  },
  {
   "cell_type": "code",
   "execution_count": 20,
   "metadata": {},
   "outputs": [
    {
     "data": {
      "text/html": [
       "<style type=\"text/css\">\n",
       "#T_bd611_row0_col0, #T_bd611_row0_col1, #T_bd611_row0_col2, #T_bd611_row1_col0, #T_bd611_row1_col1, #T_bd611_row1_col2, #T_bd611_row2_col0, #T_bd611_row2_col1, #T_bd611_row2_col2, #T_bd611_row3_col0, #T_bd611_row3_col1, #T_bd611_row3_col2, #T_bd611_row4_col0, #T_bd611_row4_col1, #T_bd611_row4_col2 {\n",
       "  max-width: 500px;\n",
       "  text-align: left;\n",
       "  white-space: normal;\n",
       "  word-wrap: break-word;\n",
       "}\n",
       "</style>\n",
       "<table id=\"T_bd611\">\n",
       "  <thead>\n",
       "    <tr>\n",
       "      <th id=\"T_bd611_level0_col0\" class=\"col_heading level0 col0\" >title</th>\n",
       "      <th id=\"T_bd611_level0_col1\" class=\"col_heading level0 col1\" >chunk</th>\n",
       "      <th id=\"T_bd611_level0_col2\" class=\"col_heading level0 col2\" >@search.score</th>\n",
       "    </tr>\n",
       "  </thead>\n",
       "  <tbody>\n",
       "    <tr>\n",
       "      <td id=\"T_bd611_row0_col0\" class=\"data row0 col0\" >11. Goder.pdf</td>\n",
       "      <td id=\"T_bd611_row0_col1\" class=\"data row0 col1\" >11. Goder\n",
       "\n",
       " Publiseringshonorar  Foredragshonorar  Rekrutteringsbonus\n",
       "\n",
       " Sertifiseringsbonus  Databrille/synstest  Studielån\n",
       "\n",
       " Mobiltelefon og bredbånd  Utstyr til hjemmekontoret\n",
       "\n",
       "Publiseringshonorar\n",
       "\n",
       "Artikler skrevet av ansatte og som blir publisert, honoreres med kr 10.000,-. Honoraret er s...</td>\n",
       "      <td id=\"T_bd611_row0_col2\" class=\"data row0 col2\" >2.589928</td>\n",
       "    </tr>\n",
       "    <tr>\n",
       "      <td id=\"T_bd611_row1_col0\" class=\"data row1 col0\" >11. Goder.pdf</td>\n",
       "      <td id=\"T_bd611_row1_col1\" class=\"data row1 col1\" >https://steria.sharepoint.com/:w:/r/sites/Personalhndbok/Dokumentbibliotek%20Personhndbok/S%C3%B8knad%20om%20studiel%C3%A5n.doc?d=w1c2b1c45fe7845a1be4dd563e84ba02c&csf=1&web=1&e=WwW6bW\n",
       "\n",
       "\n",
       "Dersom du følger undervisning av mer omfattende art, kan du søke om studielån. Lånet kan dekke hele eller deler a...</td>\n",
       "      <td id=\"T_bd611_row1_col2\" class=\"data row1 col2\" >2.469802</td>\n",
       "    </tr>\n",
       "    <tr>\n",
       "      <td id=\"T_bd611_row2_col0\" class=\"data row2 col0\" >11. Goder.pdf</td>\n",
       "      <td id=\"T_bd611_row2_col1\" class=\"data row2 col1\" >behov, og kun hos norske profesjonelle leverandører. \n",
       "\n",
       "Videre dekker Sopra Steira mobilabonnement i henhold til vårt til en hver tid gjeldende mobilabonnement. Ved å følge\n",
       "linken finner du ytterligere opplysninger om mobiltelefoni. \n",
       "\n",
       "Bredbånd\n",
       "\n",
       "Sopra Steria dekker inntil kr 4 200,- per år i utgifter ...</td>\n",
       "      <td id=\"T_bd611_row2_col2\" class=\"data row2 col2\" >1.813518</td>\n",
       "    </tr>\n",
       "    <tr>\n",
       "      <td id=\"T_bd611_row3_col0\" class=\"data row3 col0\" >11. Goder.pdf</td>\n",
       "      <td id=\"T_bd611_row3_col1\" class=\"data row3 col1\" >ikke.\n",
       "\n",
       "Viktig informasjon ved kjøp av utstyr til hjemmekontor:\n",
       "\n",
       "Du får dekket kjøp opp til NOK 3 000,- inkludert mva og frakt.\n",
       "Kostnaden belastes din BU. \n",
       "\n",
       "Du kan kjøpe så kostbart utstyr du vil. Selskapet dekker det utstyret koster inntil summen som beskrevet over.\n",
       "Siden det er et kjøp du gjør på v...</td>\n",
       "      <td id=\"T_bd611_row3_col2\" class=\"data row3 col2\" >1.718958</td>\n",
       "    </tr>\n",
       "    <tr>\n",
       "      <td id=\"T_bd611_row4_col0\" class=\"data row4 col0\" >14. Foreldrepermisjon.pdf</td>\n",
       "      <td id=\"T_bd611_row4_col1\" class=\"data row4 col1\" >i permisjon.\n",
       "\n",
       "Goder under foreldrepermisjon\n",
       "\n",
       "Du beholder dine goder som forsikringer, mobilabonnement og pensjon som vanlig mens du er i foreldrepermisjon.\n",
       "\n",
       "Sopra Steria dager tjenes ikke opp mens du er i permisjon.\n",
       "\n",
       "4/23/25, 9:11 AM 14. Foreldrepermisjon\n",
       "\n",
       "https://steria.sharepoint.com/sites/Persona...</td>\n",
       "      <td id=\"T_bd611_row4_col2\" class=\"data row4 col2\" >1.624854</td>\n",
       "    </tr>\n",
       "  </tbody>\n",
       "</table>\n"
      ],
      "text/plain": [
       "<pandas.io.formats.style.Styler at 0x12abc1dc0>"
      ]
     },
     "execution_count": 20,
     "metadata": {},
     "output_type": "execute_result"
    }
   ],
   "source": [
    "results = search_client.search(search_text=\"mobiltelefon goder\", top=5, select=[\"title\", \"chunk\"])\n",
    "\n",
    "display_results(results)\n"
   ]
  },
  {
   "cell_type": "markdown",
   "metadata": {},
   "source": [
    "#### Vector Search\n",
    "\n",
    "Retrieve documents using vector similarity search:"
   ]
  },
  {
   "cell_type": "code",
   "execution_count": 21,
   "metadata": {},
   "outputs": [
    {
     "data": {
      "text/html": [
       "<style type=\"text/css\">\n",
       "#T_78f88_row0_col0, #T_78f88_row0_col1, #T_78f88_row0_col2, #T_78f88_row1_col0, #T_78f88_row1_col1, #T_78f88_row1_col2, #T_78f88_row2_col0, #T_78f88_row2_col1, #T_78f88_row2_col2, #T_78f88_row3_col0, #T_78f88_row3_col1, #T_78f88_row3_col2, #T_78f88_row4_col0, #T_78f88_row4_col1, #T_78f88_row4_col2 {\n",
       "  max-width: 500px;\n",
       "  text-align: left;\n",
       "  white-space: normal;\n",
       "  word-wrap: break-word;\n",
       "}\n",
       "</style>\n",
       "<table id=\"T_78f88\">\n",
       "  <thead>\n",
       "    <tr>\n",
       "      <th id=\"T_78f88_level0_col0\" class=\"col_heading level0 col0\" >title</th>\n",
       "      <th id=\"T_78f88_level0_col1\" class=\"col_heading level0 col1\" >chunk</th>\n",
       "      <th id=\"T_78f88_level0_col2\" class=\"col_heading level0 col2\" >@search.score</th>\n",
       "    </tr>\n",
       "  </thead>\n",
       "  <tbody>\n",
       "    <tr>\n",
       "      <td id=\"T_78f88_row0_col0\" class=\"data row0 col0\" >11. Goder.pdf</td>\n",
       "      <td id=\"T_78f88_row0_col1\" class=\"data row0 col1\" >https://steria.sharepoint.com/:w:/r/sites/Personalhndbok/Dokumentbibliotek%20Personhndbok/S%C3%B8knad%20om%20studiel%C3%A5n.doc?d=w1c2b1c45fe7845a1be4dd563e84ba02c&csf=1&web=1&e=WwW6bW\n",
       "\n",
       "\n",
       "Dersom du følger undervisning av mer omfattende art, kan du søke om studielån. Lånet kan dekke hele eller deler a...</td>\n",
       "      <td id=\"T_78f88_row0_col2\" class=\"data row0 col2\" >0.594960</td>\n",
       "    </tr>\n",
       "    <tr>\n",
       "      <td id=\"T_78f88_row1_col0\" class=\"data row1 col0\" >11. Goder.pdf</td>\n",
       "      <td id=\"T_78f88_row1_col1\" class=\"data row1 col1\" >behov, og kun hos norske profesjonelle leverandører. \n",
       "\n",
       "Videre dekker Sopra Steira mobilabonnement i henhold til vårt til en hver tid gjeldende mobilabonnement. Ved å følge\n",
       "linken finner du ytterligere opplysninger om mobiltelefoni. \n",
       "\n",
       "Bredbånd\n",
       "\n",
       "Sopra Steria dekker inntil kr 4 200,- per år i utgifter ...</td>\n",
       "      <td id=\"T_78f88_row1_col2\" class=\"data row1 col2\" >0.586248</td>\n",
       "    </tr>\n",
       "    <tr>\n",
       "      <td id=\"T_78f88_row2_col0\" class=\"data row2 col0\" >10. Fleksibel arbeidsplass.pdf</td>\n",
       "      <td id=\"T_78f88_row2_col1\" class=\"data row2 col1\" >10. Fleksibel arbeidsplass\n",
       "\n",
       " Hjemmekontor  Jobbe hjemmefra\n",
       "\n",
       "Vi tror på den fleksible arbeidsplassen. I en fleksibel arbeidsplass vil vi kombinere vår tid mellom ulike arbeidslokasjoner,\n",
       "enten det er hos kunde, hjemme eller på kontoret. Kundene styrer arbeidstid og sted, og deretter\n",
       "prosjektleder/p...</td>\n",
       "      <td id=\"T_78f88_row2_col2\" class=\"data row2 col2\" >0.571012</td>\n",
       "    </tr>\n",
       "    <tr>\n",
       "      <td id=\"T_78f88_row3_col0\" class=\"data row3 col0\" >16. Pensjon og forsikring.pdf</td>\n",
       "      <td id=\"T_78f88_row3_col1\" class=\"data row3 col1\" >https://steria.sharepoint.com/:b:/r/sites/Personalhndbok/Dokumentbibliotek%20Pensjon%20og%20forsikring/Sopra%20Steria%20forsikringsbevis%20reise.pdf?csf=1&web=1&e=bXgSOF\n",
       "https://steria.sharepoint.com/:b:/r/sites/Personalhndbok/Dokumentbibliotek%20Personhndbok/Medlemsbevis%20Storebrand%20engelsk.pdf?...</td>\n",
       "      <td id=\"T_78f88_row3_col2\" class=\"data row3 col2\" >0.570474</td>\n",
       "    </tr>\n",
       "    <tr>\n",
       "      <td id=\"T_78f88_row4_col0\" class=\"data row4 col0\" >10. Fleksibel arbeidsplass.pdf</td>\n",
       "      <td id=\"T_78f88_row4_col1\" class=\"data row4 col1\" >innebærer at bedriften har en infrastruktur som gjør det mulig for medarbeidere å koble seg opp mot interne\n",
       "systemer hjemmefra. Bedriften stiller nødvendig utstyr til disposisjon for å utføre arbeid hjemmefra.\n",
       "\n",
       "Arbeid som utføres utenom normal arbeidstid\n",
       "\n",
       "Alle medarbeidere kan i prinsippet utføre ar...</td>\n",
       "      <td id=\"T_78f88_row4_col2\" class=\"data row4 col2\" >0.568984</td>\n",
       "    </tr>\n",
       "  </tbody>\n",
       "</table>\n"
      ],
      "text/plain": [
       "<pandas.io.formats.style.Styler at 0x12ab5f070>"
      ]
     },
     "execution_count": 21,
     "metadata": {},
     "output_type": "execute_result"
    }
   ],
   "source": [
    "from azure.search.documents.models import VectorizableTextQuery\n",
    "\n",
    "results = search_client.search(\n",
    "    None,\n",
    "    top=5,\n",
    "    vector_queries=[VectorizableTextQuery(text=\"Mobiltelefon\", k_nearest_neighbors=50, fields=\"text_vector\")],\n",
    "    select=[\"title\", \"chunk\"]\n",
    ")\n",
    "\n",
    "display_results(results)"
   ]
  },
  {
   "cell_type": "markdown",
   "metadata": {},
   "source": [
    "#### Hybrid Search (Keyword + Vector Search)\n",
    "\n",
    "Combine keyword and vector searches for better accuracy:"
   ]
  },
  {
   "cell_type": "code",
   "execution_count": 22,
   "metadata": {},
   "outputs": [
    {
     "data": {
      "text/html": [
       "<style type=\"text/css\">\n",
       "#T_4f901_row0_col0, #T_4f901_row0_col1, #T_4f901_row0_col2, #T_4f901_row1_col0, #T_4f901_row1_col1, #T_4f901_row1_col2, #T_4f901_row2_col0, #T_4f901_row2_col1, #T_4f901_row2_col2, #T_4f901_row3_col0, #T_4f901_row3_col1, #T_4f901_row3_col2, #T_4f901_row4_col0, #T_4f901_row4_col1, #T_4f901_row4_col2 {\n",
       "  max-width: 500px;\n",
       "  text-align: left;\n",
       "  white-space: normal;\n",
       "  word-wrap: break-word;\n",
       "}\n",
       "</style>\n",
       "<table id=\"T_4f901\">\n",
       "  <thead>\n",
       "    <tr>\n",
       "      <th id=\"T_4f901_level0_col0\" class=\"col_heading level0 col0\" >title</th>\n",
       "      <th id=\"T_4f901_level0_col1\" class=\"col_heading level0 col1\" >chunk</th>\n",
       "      <th id=\"T_4f901_level0_col2\" class=\"col_heading level0 col2\" >@search.score</th>\n",
       "    </tr>\n",
       "  </thead>\n",
       "  <tbody>\n",
       "    <tr>\n",
       "      <td id=\"T_4f901_row0_col0\" class=\"data row0 col0\" >11. Goder.pdf</td>\n",
       "      <td id=\"T_4f901_row0_col1\" class=\"data row0 col1\" >https://steria.sharepoint.com/:w:/r/sites/Personalhndbok/Dokumentbibliotek%20Personhndbok/S%C3%B8knad%20om%20studiel%C3%A5n.doc?d=w1c2b1c45fe7845a1be4dd563e84ba02c&csf=1&web=1&e=WwW6bW\n",
       "\n",
       "\n",
       "Dersom du følger undervisning av mer omfattende art, kan du søke om studielån. Lånet kan dekke hele eller deler a...</td>\n",
       "      <td id=\"T_4f901_row0_col2\" class=\"data row0 col2\" >0.033333</td>\n",
       "    </tr>\n",
       "    <tr>\n",
       "      <td id=\"T_4f901_row1_col0\" class=\"data row1 col0\" >11. Goder.pdf</td>\n",
       "      <td id=\"T_4f901_row1_col1\" class=\"data row1 col1\" >11. Goder\n",
       "\n",
       " Publiseringshonorar  Foredragshonorar  Rekrutteringsbonus\n",
       "\n",
       " Sertifiseringsbonus  Databrille/synstest  Studielån\n",
       "\n",
       " Mobiltelefon og bredbånd  Utstyr til hjemmekontoret\n",
       "\n",
       "Publiseringshonorar\n",
       "\n",
       "Artikler skrevet av ansatte og som blir publisert, honoreres med kr 10.000,-. Honoraret er s...</td>\n",
       "      <td id=\"T_4f901_row1_col2\" class=\"data row1 col2\" >0.031545</td>\n",
       "    </tr>\n",
       "    <tr>\n",
       "      <td id=\"T_4f901_row2_col0\" class=\"data row2 col0\" >11. Goder.pdf</td>\n",
       "      <td id=\"T_4f901_row2_col1\" class=\"data row2 col1\" >behov, og kun hos norske profesjonelle leverandører. \n",
       "\n",
       "Videre dekker Sopra Steira mobilabonnement i henhold til vårt til en hver tid gjeldende mobilabonnement. Ved å følge\n",
       "linken finner du ytterligere opplysninger om mobiltelefoni. \n",
       "\n",
       "Bredbånd\n",
       "\n",
       "Sopra Steria dekker inntil kr 4 200,- per år i utgifter ...</td>\n",
       "      <td id=\"T_4f901_row2_col2\" class=\"data row2 col2\" >0.016393</td>\n",
       "    </tr>\n",
       "    <tr>\n",
       "      <td id=\"T_4f901_row3_col0\" class=\"data row3 col0\" >10. Fleksibel arbeidsplass.pdf</td>\n",
       "      <td id=\"T_4f901_row3_col1\" class=\"data row3 col1\" >10. Fleksibel arbeidsplass\n",
       "\n",
       " Hjemmekontor  Jobbe hjemmefra\n",
       "\n",
       "Vi tror på den fleksible arbeidsplassen. I en fleksibel arbeidsplass vil vi kombinere vår tid mellom ulike arbeidslokasjoner,\n",
       "enten det er hos kunde, hjemme eller på kontoret. Kundene styrer arbeidstid og sted, og deretter\n",
       "prosjektleder/p...</td>\n",
       "      <td id=\"T_4f901_row3_col2\" class=\"data row3 col2\" >0.016129</td>\n",
       "    </tr>\n",
       "    <tr>\n",
       "      <td id=\"T_4f901_row4_col0\" class=\"data row4 col0\" >16. Pensjon og forsikring.pdf</td>\n",
       "      <td id=\"T_4f901_row4_col1\" class=\"data row4 col1\" >https://steria.sharepoint.com/:b:/r/sites/Personalhndbok/Dokumentbibliotek%20Pensjon%20og%20forsikring/Sopra%20Steria%20forsikringsbevis%20reise.pdf?csf=1&web=1&e=bXgSOF\n",
       "https://steria.sharepoint.com/:b:/r/sites/Personalhndbok/Dokumentbibliotek%20Personhndbok/Medlemsbevis%20Storebrand%20engelsk.pdf?...</td>\n",
       "      <td id=\"T_4f901_row4_col2\" class=\"data row4 col2\" >0.015873</td>\n",
       "    </tr>\n",
       "  </tbody>\n",
       "</table>\n"
      ],
      "text/plain": [
       "<pandas.io.formats.style.Styler at 0x12abc1370>"
      ]
     },
     "execution_count": 22,
     "metadata": {},
     "output_type": "execute_result"
    }
   ],
   "source": [
    "results = search_client.search(\n",
    "    search_text=\"Mobiltelefon\",\n",
    "    vector_queries=[VectorizableTextQuery(text=\"Mobiltelefon\", k_nearest_neighbors=50, fields=\"text_vector\")],\n",
    "    top=5,\n",
    "    select=[\"title\", \"chunk\"]\n",
    ")\n",
    "\n",
    "display_results(results)"
   ]
  },
  {
   "cell_type": "markdown",
   "metadata": {},
   "source": [
    "#### Hybrid Search + Semantic Ranker\n",
    "\n",
    "Enhance search results using a semantic ranker:"
   ]
  },
  {
   "cell_type": "code",
   "execution_count": 24,
   "metadata": {},
   "outputs": [
    {
     "data": {
      "text/html": [
       "<style type=\"text/css\">\n",
       "#T_3d862_row0_col0, #T_3d862_row0_col1, #T_3d862_row0_col2, #T_3d862_row0_col3, #T_3d862_row1_col0, #T_3d862_row1_col1, #T_3d862_row1_col2, #T_3d862_row1_col3, #T_3d862_row2_col0, #T_3d862_row2_col1, #T_3d862_row2_col2, #T_3d862_row2_col3, #T_3d862_row3_col0, #T_3d862_row3_col1, #T_3d862_row3_col2, #T_3d862_row3_col3, #T_3d862_row4_col0, #T_3d862_row4_col1, #T_3d862_row4_col2, #T_3d862_row4_col3 {\n",
       "  max-width: 500px;\n",
       "  text-align: left;\n",
       "  white-space: normal;\n",
       "  word-wrap: break-word;\n",
       "}\n",
       "</style>\n",
       "<table id=\"T_3d862\">\n",
       "  <thead>\n",
       "    <tr>\n",
       "      <th id=\"T_3d862_level0_col0\" class=\"col_heading level0 col0\" >title</th>\n",
       "      <th id=\"T_3d862_level0_col1\" class=\"col_heading level0 col1\" >chunk</th>\n",
       "      <th id=\"T_3d862_level0_col2\" class=\"col_heading level0 col2\" >@search.score</th>\n",
       "      <th id=\"T_3d862_level0_col3\" class=\"col_heading level0 col3\" >@search.reranker_score</th>\n",
       "    </tr>\n",
       "  </thead>\n",
       "  <tbody>\n",
       "    <tr>\n",
       "      <td id=\"T_3d862_row0_col0\" class=\"data row0 col0\" >11. Goder.pdf</td>\n",
       "      <td id=\"T_3d862_row0_col1\" class=\"data row0 col1\" >https://steria.sharepoint.com/:w:/r/sites/Personalhndbok/Dokumentbibliotek%20Personhndbok/S%C3%B8knad%20om%20studiel%C3%A5n.doc?d=w1c2b1c45fe7845a1be4dd563e84ba02c&csf=1&web=1&e=WwW6bW\n",
       "\n",
       "\n",
       "Dersom du følger undervisning av mer omfattende art, kan du søke om studielån. Lånet kan dekke hele eller deler a...</td>\n",
       "      <td id=\"T_3d862_row0_col2\" class=\"data row0 col2\" >0.033333</td>\n",
       "      <td id=\"T_3d862_row0_col3\" class=\"data row0 col3\" >2.431921</td>\n",
       "    </tr>\n",
       "    <tr>\n",
       "      <td id=\"T_3d862_row1_col0\" class=\"data row1 col0\" >11. Goder.pdf</td>\n",
       "      <td id=\"T_3d862_row1_col1\" class=\"data row1 col1\" >behov, og kun hos norske profesjonelle leverandører. \n",
       "\n",
       "Videre dekker Sopra Steira mobilabonnement i henhold til vårt til en hver tid gjeldende mobilabonnement. Ved å følge\n",
       "linken finner du ytterligere opplysninger om mobiltelefoni. \n",
       "\n",
       "Bredbånd\n",
       "\n",
       "Sopra Steria dekker inntil kr 4 200,- per år i utgifter ...</td>\n",
       "      <td id=\"T_3d862_row1_col2\" class=\"data row1 col2\" >0.016393</td>\n",
       "      <td id=\"T_3d862_row1_col3\" class=\"data row1 col3\" >2.248306</td>\n",
       "    </tr>\n",
       "    <tr>\n",
       "      <td id=\"T_3d862_row2_col0\" class=\"data row2 col0\" >16. Pensjon og forsikring.pdf</td>\n",
       "      <td id=\"T_3d862_row2_col1\" class=\"data row2 col1\" >https://steria.sharepoint.com/:b:/r/sites/Personalhndbok/Dokumentbibliotek%20Pensjon%20og%20forsikring/Sopra%20Steria%20forsikringsbevis%20reise.pdf?csf=1&web=1&e=bXgSOF\n",
       "https://steria.sharepoint.com/:b:/r/sites/Personalhndbok/Dokumentbibliotek%20Personhndbok/Medlemsbevis%20Storebrand%20engelsk.pdf?...</td>\n",
       "      <td id=\"T_3d862_row2_col2\" class=\"data row2 col2\" >0.015873</td>\n",
       "      <td id=\"T_3d862_row2_col3\" class=\"data row2 col3\" >2.133192</td>\n",
       "    </tr>\n",
       "    <tr>\n",
       "      <td id=\"T_3d862_row3_col0\" class=\"data row3 col0\" >11. Goder.pdf</td>\n",
       "      <td id=\"T_3d862_row3_col1\" class=\"data row3 col1\" >11. Goder\n",
       "\n",
       " Publiseringshonorar  Foredragshonorar  Rekrutteringsbonus\n",
       "\n",
       " Sertifiseringsbonus  Databrille/synstest  Studielån\n",
       "\n",
       " Mobiltelefon og bredbånd  Utstyr til hjemmekontoret\n",
       "\n",
       "Publiseringshonorar\n",
       "\n",
       "Artikler skrevet av ansatte og som blir publisert, honoreres med kr 10.000,-. Honoraret er s...</td>\n",
       "      <td id=\"T_3d862_row3_col2\" class=\"data row3 col2\" >0.031545</td>\n",
       "      <td id=\"T_3d862_row3_col3\" class=\"data row3 col3\" >2.098853</td>\n",
       "    </tr>\n",
       "    <tr>\n",
       "      <td id=\"T_3d862_row4_col0\" class=\"data row4 col0\" >14. Foreldrepermisjon.pdf</td>\n",
       "      <td id=\"T_3d862_row4_col1\" class=\"data row4 col1\" >i permisjon.\n",
       "\n",
       "Goder under foreldrepermisjon\n",
       "\n",
       "Du beholder dine goder som forsikringer, mobilabonnement og pensjon som vanlig mens du er i foreldrepermisjon.\n",
       "\n",
       "Sopra Steria dager tjenes ikke opp mens du er i permisjon.\n",
       "\n",
       "4/23/25, 9:11 AM 14. Foreldrepermisjon\n",
       "\n",
       "https://steria.sharepoint.com/sites/Persona...</td>\n",
       "      <td id=\"T_3d862_row4_col2\" class=\"data row4 col2\" >0.012987</td>\n",
       "      <td id=\"T_3d862_row4_col3\" class=\"data row4 col3\" >1.863352</td>\n",
       "    </tr>\n",
       "  </tbody>\n",
       "</table>\n"
      ],
      "text/plain": [
       "<pandas.io.formats.style.Styler at 0x12abc1310>"
      ]
     },
     "execution_count": 24,
     "metadata": {},
     "output_type": "execute_result"
    }
   ],
   "source": [
    "results = search_client.search(\n",
    "    search_text=\"Mobiltelefon\",\n",
    "    vector_queries=[VectorizableTextQuery(text=\"Mobiltelefon\", k_nearest_neighbors=50, fields=\"text_vector\")],\n",
    "    top=5,\n",
    "    select=[\"title\", \"chunk\"],\n",
    "    query_type=\"semantic\",\n",
    "    semantic_configuration_name=\"sopravector2-semantic-configuration\"\n",
    ")\n",
    "\n",
    "display_results(results)"
   ]
  },
  {
   "cell_type": "markdown",
   "metadata": {},
   "source": [
    "## Troubleshooting\n",
    "\n",
    "- **Environment Variables Not Loaded:** Ensure you have correctly set the .env file or manually export them in your terminal before running the notebook.\n",
    "- **Authentication Issues:** If using Managed Identity, make sure your Azure identity has proper role assignments.\n",
    "- **Search Results Are Empty:** Ensure your Azure AI Search index contains vectorized data.\n",
    "- **Query Rewriting Issues:** Ensure your search service supports semantic configurations and generative query rewrites.\n",
    "\n",
    "## Summary\n",
    "\n",
    "This notebook demonstrates different search techniques using Azure AI Search, including keyword search, vector search, hybrid search, semantic ranking, and query rewriting. The approach enhances search accuracy by leveraging vector embeddings and semantic understanding to retrieve the most relevant documents.\n",
    "\n"
   ]
  }
 ],
 "metadata": {
  "kernelspec": {
   "display_name": "Python 3",
   "language": "python",
   "name": "python3"
  },
  "language_info": {
   "codemirror_mode": {
    "name": "ipython",
    "version": 3
   },
   "file_extension": ".py",
   "mimetype": "text/x-python",
   "name": "python",
   "nbconvert_exporter": "python",
   "pygments_lexer": "ipython3",
   "version": "3.9.6"
  }
 },
 "nbformat": 4,
 "nbformat_minor": 2
}
